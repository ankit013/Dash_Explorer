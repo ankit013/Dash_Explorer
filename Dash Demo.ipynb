{
 "cells": [
  {
   "cell_type": "code",
   "execution_count": 41,
   "metadata": {},
   "outputs": [],
   "source": [
    "import dash\n",
    "import dash_core_components as dcc\n",
    "import dash_html_components as html\n",
    "import plotly.graph_objects as go"
   ]
  },
  {
   "cell_type": "code",
   "execution_count": 3,
   "metadata": {},
   "outputs": [],
   "source": [
    "app=dash.Dash()"
   ]
  },
  {
   "cell_type": "code",
   "execution_count": 31,
   "metadata": {},
   "outputs": [],
   "source": [
    "colors={\n",
    "    'text':'#ff0000',\n",
    "    'plot_color':'D3D3D3',\n",
    "    'paper_color':'00FFFF'\n",
    "}"
   ]
  },
  {
   "cell_type": "markdown",
   "metadata": {},
   "source": [
    "### Bar Plot"
   ]
  },
  {
   "cell_type": "code",
   "execution_count": 33,
   "metadata": {},
   "outputs": [],
   "source": [
    "app.layout=html.Div([\n",
    "    html.H1(children=\"Hello Dash\",\n",
    "            style={'textAlign':'center','color':colors['text']}\n",
    "           ),\n",
    "    html.Div(children=\"Dash-A data product platform from Plotly\",\n",
    "             style={'textAlign':'center','color':colors['text']}\n",
    "            ),\n",
    "    dcc.Graph(\n",
    "    id='sample_graph',\n",
    "    figure={'data':[{'x':[4,5,6],'y':[7,8,9],'type':'bar','name':'FC'},{'x':[4,5,6],'y':[17,18,19],'type':'bar','name':'SC'}],\n",
    "            'layout':{'title':'simple bar chart','plot_bgcolor':colors['plot_color'],'paper_bgcolor':colors['paper_color'],'font':{'color':colors['text']}}\n",
    "           }\n",
    "    )\n",
    "])"
   ]
  },
  {
   "cell_type": "code",
   "execution_count": 34,
   "metadata": {},
   "outputs": [
    {
     "name": "stdout",
     "output_type": "stream",
     "text": [
      "Dash is running on http://0.0.0.0:8050/\n",
      "\n",
      " Warning: This is a development server. Do not use app.run_server\n",
      " in production, use a production WSGI server like gunicorn instead.\n",
      "\n",
      " * Serving Flask app \"__main__\" (lazy loading)\n",
      " * Environment: production\n",
      "   WARNING: Do not use the development server in a production environment.\n",
      "   Use a production WSGI server instead.\n",
      " * Debug mode: off\n"
     ]
    },
    {
     "name": "stderr",
     "output_type": "stream",
     "text": [
      " * Running on http://0.0.0.0:8050/ (Press CTRL+C to quit)\n",
      "127.0.0.1 - - [21/Jul/2020 12:32:20] \"\u001b[37mGET / HTTP/1.1\u001b[0m\" 200 -\n",
      "127.0.0.1 - - [21/Jul/2020 12:32:20] \"\u001b[37mGET /_dash-layout HTTP/1.1\u001b[0m\" 200 -\n",
      "127.0.0.1 - - [21/Jul/2020 12:32:20] \"\u001b[37mGET /_dash-dependencies HTTP/1.1\u001b[0m\" 200 -\n"
     ]
    }
   ],
   "source": [
    "if __name__==\"__main__\":\n",
    "    app.run_server(port=8050,\n",
    "        host='0.0.0.0')"
   ]
  },
  {
   "cell_type": "markdown",
   "metadata": {},
   "source": [
    "### Scatter Plot"
   ]
  },
  {
   "cell_type": "code",
   "execution_count": 36,
   "metadata": {},
   "outputs": [],
   "source": [
    "import numpy as np\n",
    "np.random.seed(11)\n",
    "x_rand=np.random.randint(1,61,60)\n",
    "y_rand=np.random.randint(1,61,60)"
   ]
  },
  {
   "cell_type": "code",
   "execution_count": 44,
   "metadata": {},
   "outputs": [
    {
     "name": "stderr",
     "output_type": "stream",
     "text": [
      "Duplicate key in file '/Users/ankitpatel/.matplotlib/matplotlibrc' line #2.\n"
     ]
    }
   ],
   "source": [
    "app.layout=html.Div([\n",
    "    dcc.Graph(\n",
    "        id='scatter_chart',\n",
    "        figure={'data':[go.Scatter(x=x_rand,y=y_rand,mode='markers')],\n",
    "                'layout':go.Layout(title=\"scatter plot of random 60 points\",xaxis={'title':'Random x values'},yaxis={'title':'Random y values'})}\n",
    "    )\n",
    "])"
   ]
  },
  {
   "cell_type": "code",
   "execution_count": 45,
   "metadata": {},
   "outputs": [
    {
     "name": "stdout",
     "output_type": "stream",
     "text": [
      "Dash is running on http://0.0.0.0:8050/\n",
      "\n",
      " Warning: This is a development server. Do not use app.run_server\n",
      " in production, use a production WSGI server like gunicorn instead.\n",
      "\n",
      " * Serving Flask app \"__main__\" (lazy loading)\n",
      " * Environment: production\n",
      "   WARNING: Do not use the development server in a production environment.\n",
      "   Use a production WSGI server instead.\n",
      " * Debug mode: off\n"
     ]
    },
    {
     "name": "stderr",
     "output_type": "stream",
     "text": [
      " * Running on http://0.0.0.0:8050/ (Press CTRL+C to quit)\n",
      "127.0.0.1 - - [21/Jul/2020 13:27:22] \"\u001b[37mGET / HTTP/1.1\u001b[0m\" 200 -\n",
      "127.0.0.1 - - [21/Jul/2020 13:27:23] \"\u001b[37mGET /_dash-layout HTTP/1.1\u001b[0m\" 200 -\n",
      "127.0.0.1 - - [21/Jul/2020 13:27:23] \"\u001b[37mGET /_dash-dependencies HTTP/1.1\u001b[0m\" 200 -\n",
      "127.0.0.1 - - [21/Jul/2020 13:27:23] \"\u001b[37mGET /_dash-component-suites/dash_core_components/async-plotlyjs.v1_10_1m1592438751.js HTTP/1.1\u001b[0m\" 200 -\n"
     ]
    }
   ],
   "source": [
    "if __name__==\"__main__\":\n",
    "    app.run_server(port=8050,\n",
    "        host='0.0.0.0')"
   ]
  },
  {
   "cell_type": "markdown",
   "metadata": {},
   "source": [
    "### Chart creation using Pandas dataframe"
   ]
  },
  {
   "cell_type": "code",
   "execution_count": 46,
   "metadata": {},
   "outputs": [],
   "source": [
    "import pandas as pd"
   ]
  },
  {
   "cell_type": "code",
   "execution_count": 48,
   "metadata": {},
   "outputs": [],
   "source": [
    "df=pd.read_csv('./Datasets/wine.csv')"
   ]
  },
  {
   "cell_type": "code",
   "execution_count": 49,
   "metadata": {},
   "outputs": [
    {
     "data": {
      "text/html": [
       "<div>\n",
       "<style scoped>\n",
       "    .dataframe tbody tr th:only-of-type {\n",
       "        vertical-align: middle;\n",
       "    }\n",
       "\n",
       "    .dataframe tbody tr th {\n",
       "        vertical-align: top;\n",
       "    }\n",
       "\n",
       "    .dataframe thead th {\n",
       "        text-align: right;\n",
       "    }\n",
       "</style>\n",
       "<table border=\"1\" class=\"dataframe\">\n",
       "  <thead>\n",
       "    <tr style=\"text-align: right;\">\n",
       "      <th></th>\n",
       "      <th>fixed acidity</th>\n",
       "      <th>volatile acidity</th>\n",
       "      <th>citric acid</th>\n",
       "      <th>residual sugar</th>\n",
       "      <th>chlorides</th>\n",
       "      <th>free sulfur dioxide</th>\n",
       "      <th>total sulfur dioxide</th>\n",
       "      <th>density</th>\n",
       "      <th>pH</th>\n",
       "      <th>sulphates</th>\n",
       "      <th>alcohol</th>\n",
       "      <th>quality</th>\n",
       "    </tr>\n",
       "  </thead>\n",
       "  <tbody>\n",
       "    <tr>\n",
       "      <th>0</th>\n",
       "      <td>7.4</td>\n",
       "      <td>0.700</td>\n",
       "      <td>0.00</td>\n",
       "      <td>1.9</td>\n",
       "      <td>0.076</td>\n",
       "      <td>11.0</td>\n",
       "      <td>34.0</td>\n",
       "      <td>0.99780</td>\n",
       "      <td>3.51</td>\n",
       "      <td>0.56</td>\n",
       "      <td>9.4</td>\n",
       "      <td>5</td>\n",
       "    </tr>\n",
       "    <tr>\n",
       "      <th>1</th>\n",
       "      <td>7.8</td>\n",
       "      <td>0.880</td>\n",
       "      <td>0.00</td>\n",
       "      <td>2.6</td>\n",
       "      <td>0.098</td>\n",
       "      <td>25.0</td>\n",
       "      <td>67.0</td>\n",
       "      <td>0.99680</td>\n",
       "      <td>3.20</td>\n",
       "      <td>0.68</td>\n",
       "      <td>9.8</td>\n",
       "      <td>5</td>\n",
       "    </tr>\n",
       "    <tr>\n",
       "      <th>2</th>\n",
       "      <td>7.8</td>\n",
       "      <td>0.760</td>\n",
       "      <td>0.04</td>\n",
       "      <td>2.3</td>\n",
       "      <td>0.092</td>\n",
       "      <td>15.0</td>\n",
       "      <td>54.0</td>\n",
       "      <td>0.99700</td>\n",
       "      <td>3.26</td>\n",
       "      <td>0.65</td>\n",
       "      <td>9.8</td>\n",
       "      <td>5</td>\n",
       "    </tr>\n",
       "    <tr>\n",
       "      <th>3</th>\n",
       "      <td>11.2</td>\n",
       "      <td>0.280</td>\n",
       "      <td>0.56</td>\n",
       "      <td>1.9</td>\n",
       "      <td>0.075</td>\n",
       "      <td>17.0</td>\n",
       "      <td>60.0</td>\n",
       "      <td>0.99800</td>\n",
       "      <td>3.16</td>\n",
       "      <td>0.58</td>\n",
       "      <td>9.8</td>\n",
       "      <td>6</td>\n",
       "    </tr>\n",
       "    <tr>\n",
       "      <th>4</th>\n",
       "      <td>7.4</td>\n",
       "      <td>0.700</td>\n",
       "      <td>0.00</td>\n",
       "      <td>1.9</td>\n",
       "      <td>0.076</td>\n",
       "      <td>11.0</td>\n",
       "      <td>34.0</td>\n",
       "      <td>0.99780</td>\n",
       "      <td>3.51</td>\n",
       "      <td>0.56</td>\n",
       "      <td>9.4</td>\n",
       "      <td>5</td>\n",
       "    </tr>\n",
       "    <tr>\n",
       "      <th>...</th>\n",
       "      <td>...</td>\n",
       "      <td>...</td>\n",
       "      <td>...</td>\n",
       "      <td>...</td>\n",
       "      <td>...</td>\n",
       "      <td>...</td>\n",
       "      <td>...</td>\n",
       "      <td>...</td>\n",
       "      <td>...</td>\n",
       "      <td>...</td>\n",
       "      <td>...</td>\n",
       "      <td>...</td>\n",
       "    </tr>\n",
       "    <tr>\n",
       "      <th>1594</th>\n",
       "      <td>6.2</td>\n",
       "      <td>0.600</td>\n",
       "      <td>0.08</td>\n",
       "      <td>2.0</td>\n",
       "      <td>0.090</td>\n",
       "      <td>32.0</td>\n",
       "      <td>44.0</td>\n",
       "      <td>0.99490</td>\n",
       "      <td>3.45</td>\n",
       "      <td>0.58</td>\n",
       "      <td>10.5</td>\n",
       "      <td>5</td>\n",
       "    </tr>\n",
       "    <tr>\n",
       "      <th>1595</th>\n",
       "      <td>5.9</td>\n",
       "      <td>0.550</td>\n",
       "      <td>0.10</td>\n",
       "      <td>2.2</td>\n",
       "      <td>0.062</td>\n",
       "      <td>39.0</td>\n",
       "      <td>51.0</td>\n",
       "      <td>0.99512</td>\n",
       "      <td>3.52</td>\n",
       "      <td>0.76</td>\n",
       "      <td>11.2</td>\n",
       "      <td>6</td>\n",
       "    </tr>\n",
       "    <tr>\n",
       "      <th>1596</th>\n",
       "      <td>6.3</td>\n",
       "      <td>0.510</td>\n",
       "      <td>0.13</td>\n",
       "      <td>2.3</td>\n",
       "      <td>0.076</td>\n",
       "      <td>29.0</td>\n",
       "      <td>40.0</td>\n",
       "      <td>0.99574</td>\n",
       "      <td>3.42</td>\n",
       "      <td>0.75</td>\n",
       "      <td>11.0</td>\n",
       "      <td>6</td>\n",
       "    </tr>\n",
       "    <tr>\n",
       "      <th>1597</th>\n",
       "      <td>5.9</td>\n",
       "      <td>0.645</td>\n",
       "      <td>0.12</td>\n",
       "      <td>2.0</td>\n",
       "      <td>0.075</td>\n",
       "      <td>32.0</td>\n",
       "      <td>44.0</td>\n",
       "      <td>0.99547</td>\n",
       "      <td>3.57</td>\n",
       "      <td>0.71</td>\n",
       "      <td>10.2</td>\n",
       "      <td>5</td>\n",
       "    </tr>\n",
       "    <tr>\n",
       "      <th>1598</th>\n",
       "      <td>6.0</td>\n",
       "      <td>0.310</td>\n",
       "      <td>0.47</td>\n",
       "      <td>3.6</td>\n",
       "      <td>0.067</td>\n",
       "      <td>18.0</td>\n",
       "      <td>42.0</td>\n",
       "      <td>0.99549</td>\n",
       "      <td>3.39</td>\n",
       "      <td>0.66</td>\n",
       "      <td>11.0</td>\n",
       "      <td>6</td>\n",
       "    </tr>\n",
       "  </tbody>\n",
       "</table>\n",
       "<p>1599 rows × 12 columns</p>\n",
       "</div>"
      ],
      "text/plain": [
       "      fixed acidity  volatile acidity  citric acid  residual sugar  chlorides  \\\n",
       "0               7.4             0.700         0.00             1.9      0.076   \n",
       "1               7.8             0.880         0.00             2.6      0.098   \n",
       "2               7.8             0.760         0.04             2.3      0.092   \n",
       "3              11.2             0.280         0.56             1.9      0.075   \n",
       "4               7.4             0.700         0.00             1.9      0.076   \n",
       "...             ...               ...          ...             ...        ...   \n",
       "1594            6.2             0.600         0.08             2.0      0.090   \n",
       "1595            5.9             0.550         0.10             2.2      0.062   \n",
       "1596            6.3             0.510         0.13             2.3      0.076   \n",
       "1597            5.9             0.645         0.12             2.0      0.075   \n",
       "1598            6.0             0.310         0.47             3.6      0.067   \n",
       "\n",
       "      free sulfur dioxide  total sulfur dioxide  density    pH  sulphates  \\\n",
       "0                    11.0                  34.0  0.99780  3.51       0.56   \n",
       "1                    25.0                  67.0  0.99680  3.20       0.68   \n",
       "2                    15.0                  54.0  0.99700  3.26       0.65   \n",
       "3                    17.0                  60.0  0.99800  3.16       0.58   \n",
       "4                    11.0                  34.0  0.99780  3.51       0.56   \n",
       "...                   ...                   ...      ...   ...        ...   \n",
       "1594                 32.0                  44.0  0.99490  3.45       0.58   \n",
       "1595                 39.0                  51.0  0.99512  3.52       0.76   \n",
       "1596                 29.0                  40.0  0.99574  3.42       0.75   \n",
       "1597                 32.0                  44.0  0.99547  3.57       0.71   \n",
       "1598                 18.0                  42.0  0.99549  3.39       0.66   \n",
       "\n",
       "      alcohol  quality  \n",
       "0         9.4        5  \n",
       "1         9.8        5  \n",
       "2         9.8        5  \n",
       "3         9.8        6  \n",
       "4         9.4        5  \n",
       "...       ...      ...  \n",
       "1594     10.5        5  \n",
       "1595     11.2        6  \n",
       "1596     11.0        6  \n",
       "1597     10.2        5  \n",
       "1598     11.0        6  \n",
       "\n",
       "[1599 rows x 12 columns]"
      ]
     },
     "execution_count": 49,
     "metadata": {},
     "output_type": "execute_result"
    }
   ],
   "source": [
    "df"
   ]
  },
  {
   "cell_type": "code",
   "execution_count": 54,
   "metadata": {},
   "outputs": [],
   "source": [
    "app.layout=html.Div([\n",
    "    dcc.Graph(\n",
    "        id='scatter_chart',\n",
    "        figure={'data':[go.Scatter(x=df['fixed acidity'],y=df['alcohol'],mode='markers')],\n",
    "                'layout':go.Layout(title=\"scatter plot wine dataset\",xaxis={'title':'Fixed acidity'},yaxis={'title':'Quality'},hovermode=\"closest\")}\n",
    "    )\n",
    "])"
   ]
  },
  {
   "cell_type": "code",
   "execution_count": 55,
   "metadata": {},
   "outputs": [
    {
     "name": "stdout",
     "output_type": "stream",
     "text": [
      "Dash is running on http://0.0.0.0:8050/\n",
      "\n",
      " Warning: This is a development server. Do not use app.run_server\n",
      " in production, use a production WSGI server like gunicorn instead.\n",
      "\n",
      " * Serving Flask app \"__main__\" (lazy loading)\n",
      " * Environment: production\n",
      "   WARNING: Do not use the development server in a production environment.\n",
      "   Use a production WSGI server instead.\n",
      " * Debug mode: off\n"
     ]
    },
    {
     "name": "stderr",
     "output_type": "stream",
     "text": [
      " * Running on http://0.0.0.0:8050/ (Press CTRL+C to quit)\n",
      "127.0.0.1 - - [21/Jul/2020 14:20:16] \"\u001b[37mGET / HTTP/1.1\u001b[0m\" 200 -\n",
      "127.0.0.1 - - [21/Jul/2020 14:20:17] \"\u001b[37mGET /_dash-layout HTTP/1.1\u001b[0m\" 200 -\n",
      "127.0.0.1 - - [21/Jul/2020 14:20:17] \"\u001b[37mGET /_dash-dependencies HTTP/1.1\u001b[0m\" 200 -\n"
     ]
    }
   ],
   "source": [
    "if __name__==\"__main__\":\n",
    "    app.run_server(port=8050,\n",
    "        host='0.0.0.0')"
   ]
  },
  {
   "cell_type": "markdown",
   "metadata": {},
   "source": [
    "### Drop down selector component"
   ]
  },
  {
   "cell_type": "code",
   "execution_count": 71,
   "metadata": {},
   "outputs": [],
   "source": [
    "app.layout=html.Div([\n",
    "    html.Label('Choose a city'),\n",
    "    html.Br(),\n",
    "    dcc.Dropdown(id='first-dropdown',\n",
    "                 options=[{'label':'San Francisco','value':'SF'},{'label':'New York City','value':'NYC','disables':True}],\n",
    "                 value='NYC',\n",
    "                 multi=True,### multiple selection \n",
    "                 placeholder=\"Select a city\", ### enables default text in the dropdown\n",
    "                 disabled=True ### restricts the user to select the option from the dropdown\n",
    "                )\n",
    "])"
   ]
  },
  {
   "cell_type": "code",
   "execution_count": 72,
   "metadata": {},
   "outputs": [
    {
     "name": "stdout",
     "output_type": "stream",
     "text": [
      "Dash is running on http://0.0.0.0:8050/\n",
      "\n",
      " Warning: This is a development server. Do not use app.run_server\n",
      " in production, use a production WSGI server like gunicorn instead.\n",
      "\n",
      " * Serving Flask app \"__main__\" (lazy loading)\n",
      " * Environment: production\n",
      "   WARNING: Do not use the development server in a production environment.\n",
      "   Use a production WSGI server instead.\n",
      " * Debug mode: off\n"
     ]
    },
    {
     "name": "stderr",
     "output_type": "stream",
     "text": [
      " * Running on http://0.0.0.0:8050/ (Press CTRL+C to quit)\n",
      "127.0.0.1 - - [21/Jul/2020 15:36:21] \"\u001b[37mGET / HTTP/1.1\u001b[0m\" 200 -\n",
      "127.0.0.1 - - [21/Jul/2020 15:36:22] \"\u001b[37mGET /_dash-layout HTTP/1.1\u001b[0m\" 200 -\n",
      "127.0.0.1 - - [21/Jul/2020 15:36:22] \"\u001b[37mGET /_dash-dependencies HTTP/1.1\u001b[0m\" 200 -\n"
     ]
    }
   ],
   "source": [
    "if __name__==\"__main__\":\n",
    "    app.run_server(port=8050,\n",
    "        host='0.0.0.0')"
   ]
  },
  {
   "cell_type": "markdown",
   "metadata": {},
   "source": [
    "### Slider component"
   ]
  },
  {
   "cell_type": "code",
   "execution_count": 87,
   "metadata": {},
   "outputs": [],
   "source": [
    "app.layout=html.Div([\n",
    "    html.Label('Choose a city'),\n",
    "    html.Br(),\n",
    "    dcc.Dropdown(id='first-dropdown',\n",
    "                 options=[{'label':'San Francisco','value':'SF'},{'label':'New York City','value':'NYC','disables':True}],\n",
    "                 value='NYC',\n",
    "                 multi=True,### multiple selection \n",
    "                 placeholder=\"Select a city\", ### enables default text in the dropdown\n",
    "                 disabled=True ### restricts the user to select the option from the dropdown\n",
    "                ),\n",
    "    html.Label(\"Slider\"),\n",
    "    dcc.Slider(min=1,max=10,value=5,marks={i:i for i in range(10)},step=0.5)## Slider with step count of 0.5\n",
    "])"
   ]
  },
  {
   "cell_type": "code",
   "execution_count": 88,
   "metadata": {},
   "outputs": [
    {
     "name": "stdout",
     "output_type": "stream",
     "text": [
      "Dash is running on http://0.0.0.0:8050/\n",
      "\n",
      " Warning: This is a development server. Do not use app.run_server\n",
      " in production, use a production WSGI server like gunicorn instead.\n",
      "\n",
      " * Serving Flask app \"__main__\" (lazy loading)\n",
      " * Environment: production\n",
      "   WARNING: Do not use the development server in a production environment.\n",
      "   Use a production WSGI server instead.\n",
      " * Debug mode: off\n"
     ]
    },
    {
     "name": "stderr",
     "output_type": "stream",
     "text": [
      " * Running on http://0.0.0.0:8050/ (Press CTRL+C to quit)\n",
      "127.0.0.1 - - [21/Jul/2020 15:49:56] \"\u001b[37mGET / HTTP/1.1\u001b[0m\" 200 -\n",
      "127.0.0.1 - - [21/Jul/2020 15:49:56] \"\u001b[37mGET /_dash-layout HTTP/1.1\u001b[0m\" 200 -\n",
      "127.0.0.1 - - [21/Jul/2020 15:49:56] \"\u001b[37mGET /_dash-dependencies HTTP/1.1\u001b[0m\" 200 -\n"
     ]
    }
   ],
   "source": [
    "if __name__==\"__main__\":\n",
    "    app.run_server(port=8050,\n",
    "        host='0.0.0.0')"
   ]
  },
  {
   "cell_type": "markdown",
   "metadata": {},
   "source": [
    "### Range Slider"
   ]
  },
  {
   "cell_type": "code",
   "execution_count": 89,
   "metadata": {},
   "outputs": [],
   "source": [
    "app.layout=html.Div([\n",
    "    html.Label('Choose a city'),\n",
    "    html.Br(),\n",
    "    dcc.Dropdown(id='first-dropdown',\n",
    "                 options=[{'label':'San Francisco','value':'SF'},{'label':'New York City','value':'NYC','disables':True}],\n",
    "                 value='NYC',\n",
    "                 multi=True,### multiple selection \n",
    "                 placeholder=\"Select a city\", ### enables default text in the dropdown\n",
    "                 disabled=True ### restricts the user to select the option from the dropdown\n",
    "                ),\n",
    "    html.Label(\"Slider\"),\n",
    "    dcc.Slider(min=1,max=10,value=5,marks={i:i for i in range(10)},step=0.5),## Slider with step count of 0.5\n",
    "    html.Label(\"Range Slider\"),\n",
    "    dcc.RangeSlider(min=1,max=10,step=0.5,value=[3,7],marks={i:i for i in range(10)})\n",
    "])"
   ]
  },
  {
   "cell_type": "code",
   "execution_count": 90,
   "metadata": {},
   "outputs": [
    {
     "name": "stdout",
     "output_type": "stream",
     "text": [
      "Dash is running on http://0.0.0.0:8050/\n",
      "\n",
      " Warning: This is a development server. Do not use app.run_server\n",
      " in production, use a production WSGI server like gunicorn instead.\n",
      "\n",
      " * Serving Flask app \"__main__\" (lazy loading)\n",
      " * Environment: production\n",
      "   WARNING: Do not use the development server in a production environment.\n",
      "   Use a production WSGI server instead.\n",
      " * Debug mode: off\n"
     ]
    },
    {
     "name": "stderr",
     "output_type": "stream",
     "text": [
      " * Running on http://0.0.0.0:8050/ (Press CTRL+C to quit)\n",
      "127.0.0.1 - - [21/Jul/2020 15:58:04] \"\u001b[37mGET / HTTP/1.1\u001b[0m\" 200 -\n",
      "127.0.0.1 - - [21/Jul/2020 15:58:05] \"\u001b[37mGET /_dash-layout HTTP/1.1\u001b[0m\" 200 -\n",
      "127.0.0.1 - - [21/Jul/2020 15:58:05] \"\u001b[37mGET /_dash-dependencies HTTP/1.1\u001b[0m\" 200 -\n"
     ]
    }
   ],
   "source": [
    "if __name__==\"__main__\":\n",
    "    app.run_server(port=8050,\n",
    "        host='0.0.0.0')"
   ]
  },
  {
   "cell_type": "markdown",
   "metadata": {},
   "source": [
    "### Input box "
   ]
  },
  {
   "cell_type": "code",
   "execution_count": 101,
   "metadata": {},
   "outputs": [],
   "source": [
    "app.layout=html.Div([\n",
    "    html.Label('Choose a city'),\n",
    "    html.Br(),\n",
    "    dcc.Dropdown(id='first-dropdown',\n",
    "                 options=[{'label':'San Francisco','value':'SF'},{'label':'New York City','value':'NYC','disables':True}],\n",
    "                 value='NYC',\n",
    "                 multi=True,### multiple selection \n",
    "                 placeholder=\"Select a city\", ### enables default text in the dropdown\n",
    "                 disabled=True ### restricts the user to select the option from the dropdown\n",
    "                ),\n",
    "    html.Br(),\n",
    "    html.Br(),\n",
    "    html.Label(\"Slider\"),\n",
    "    dcc.Slider(min=1,max=10,value=5,marks={i:i for i in range(10)},step=0.5),## Slider with step count of 0.5\n",
    "    html.Br(),\n",
    "    html.Br(),\n",
    "    html.Label(\"Range Slider\"),\n",
    "    dcc.RangeSlider(min=1,max=10,step=0.5,value=[3,7],marks={i:i for i in range(10)}),## Range slider\n",
    "    html.Br(),\n",
    "    html.Br(),\n",
    "    html.Label(\"Input Text box\"),\n",
    "    html.Br(),\n",
    "    html.Div([\n",
    "    dcc.Input(placeholder=\"Enter text here\",type='text',value=\"\")## Input text box    \n",
    "    ])\n",
    "    \n",
    "])"
   ]
  },
  {
   "cell_type": "code",
   "execution_count": 102,
   "metadata": {},
   "outputs": [
    {
     "name": "stdout",
     "output_type": "stream",
     "text": [
      "Dash is running on http://0.0.0.0:8050/\n",
      "\n",
      " Warning: This is a development server. Do not use app.run_server\n",
      " in production, use a production WSGI server like gunicorn instead.\n",
      "\n",
      " * Serving Flask app \"__main__\" (lazy loading)\n",
      " * Environment: production\n",
      "   WARNING: Do not use the development server in a production environment.\n",
      "   Use a production WSGI server instead.\n",
      " * Debug mode: off\n"
     ]
    },
    {
     "name": "stderr",
     "output_type": "stream",
     "text": [
      " * Running on http://0.0.0.0:8050/ (Press CTRL+C to quit)\n",
      "127.0.0.1 - - [21/Jul/2020 16:08:30] \"\u001b[37mGET / HTTP/1.1\u001b[0m\" 200 -\n",
      "127.0.0.1 - - [21/Jul/2020 16:08:30] \"\u001b[37mGET /_dash-layout HTTP/1.1\u001b[0m\" 200 -\n",
      "127.0.0.1 - - [21/Jul/2020 16:08:30] \"\u001b[37mGET /_dash-dependencies HTTP/1.1\u001b[0m\" 200 -\n"
     ]
    }
   ],
   "source": [
    "if __name__==\"__main__\":\n",
    "    app.run_server(port=8050,\n",
    "        host='0.0.0.0')"
   ]
  },
  {
   "cell_type": "markdown",
   "metadata": {},
   "source": [
    "### Text Area"
   ]
  },
  {
   "cell_type": "code",
   "execution_count": 104,
   "metadata": {},
   "outputs": [],
   "source": [
    "app.layout=html.Div([\n",
    "    html.Label('Choose a city'),\n",
    "    html.Br(),\n",
    "    dcc.Dropdown(id='first-dropdown',\n",
    "                 options=[{'label':'San Francisco','value':'SF'},{'label':'New York City','value':'NYC','disables':True}],\n",
    "                 value='NYC',\n",
    "                 multi=True,### multiple selection \n",
    "                 placeholder=\"Select a city\", ### enables default text in the dropdown\n",
    "                 disabled=True ### restricts the user to select the option from the dropdown\n",
    "                ),\n",
    "    html.Br(),\n",
    "    html.Br(),\n",
    "    html.Label(\"Slider\"),\n",
    "    dcc.Slider(min=1,max=10,value=5,marks={i:i for i in range(10)},step=0.5),## Slider with step count of 0.5\n",
    "    html.Br(),\n",
    "    html.Br(),\n",
    "    html.Label(\"Range Slider\"),\n",
    "    dcc.RangeSlider(min=1,max=10,step=0.5,value=[3,7],marks={i:i for i in range(10)}),## Range slider\n",
    "    html.Br(),\n",
    "    html.Br(),\n",
    "    html.Label(\"Input Text box\"),\n",
    "    html.Br(),\n",
    "    html.Div([\n",
    "    dcc.Input(placeholder=\"Enter text here\",type='text',value=\"\")## Input text box    \n",
    "    ]),\n",
    "    html.Br(),\n",
    "    html.Br(),\n",
    "    dcc.Textarea(placeholder=\"Type the text here\",value='Placeholder',style={'width':'100%'})\n",
    "    \n",
    "])"
   ]
  },
  {
   "cell_type": "code",
   "execution_count": 105,
   "metadata": {},
   "outputs": [
    {
     "name": "stdout",
     "output_type": "stream",
     "text": [
      "Dash is running on http://0.0.0.0:8050/\n",
      "\n",
      " Warning: This is a development server. Do not use app.run_server\n",
      " in production, use a production WSGI server like gunicorn instead.\n",
      "\n",
      " * Serving Flask app \"__main__\" (lazy loading)\n",
      " * Environment: production\n",
      "   WARNING: Do not use the development server in a production environment.\n",
      "   Use a production WSGI server instead.\n",
      " * Debug mode: off\n"
     ]
    },
    {
     "name": "stderr",
     "output_type": "stream",
     "text": [
      " * Running on http://0.0.0.0:8050/ (Press CTRL+C to quit)\n",
      "127.0.0.1 - - [21/Jul/2020 16:13:47] \"\u001b[37mGET / HTTP/1.1\u001b[0m\" 200 -\n",
      "127.0.0.1 - - [21/Jul/2020 16:13:47] \"\u001b[37mGET /_dash-layout HTTP/1.1\u001b[0m\" 200 -\n",
      "127.0.0.1 - - [21/Jul/2020 16:13:47] \"\u001b[37mGET /_dash-dependencies HTTP/1.1\u001b[0m\" 200 -\n"
     ]
    }
   ],
   "source": [
    "if __name__==\"__main__\":\n",
    "    app.run_server(port=8050,\n",
    "        host='0.0.0.0')"
   ]
  },
  {
   "cell_type": "markdown",
   "metadata": {},
   "source": [
    "### Checkbox"
   ]
  },
  {
   "cell_type": "code",
   "execution_count": 111,
   "metadata": {},
   "outputs": [],
   "source": [
    "app.layout=html.Div([\n",
    "    html.Label('Choose a city'),\n",
    "    html.Br(),\n",
    "    dcc.Dropdown(id='first-dropdown',\n",
    "                 options=[{'label':'San Francisco','value':'SF'},{'label':'New York City','value':'NYC','disables':True}],\n",
    "                 value='NYC',\n",
    "                 multi=True,### multiple selection \n",
    "                 placeholder=\"Select a city\", ### enables default text in the dropdown\n",
    "                 disabled=True ### restricts the user to select the option from the dropdown\n",
    "                ),\n",
    "    html.Br(),\n",
    "    html.Br(),\n",
    "    html.Label(\"Slider\"),\n",
    "    dcc.Slider(min=1,max=10,value=5,marks={i:i for i in range(10)},step=0.5),## Slider with step count of 0.5\n",
    "    html.Br(),\n",
    "    html.Br(),\n",
    "    html.Label(\"Range Slider\"),\n",
    "    dcc.RangeSlider(min=1,max=10,step=0.5,value=[3,7],marks={i:i for i in range(10)}),## Range slider\n",
    "    html.Br(),\n",
    "    html.Br(),\n",
    "    html.Label(\"Input Text box\"),### text box \n",
    "    html.Br(),\n",
    "    html.Div([\n",
    "    dcc.Input(placeholder=\"Enter text here\",type='text',value=\"\")## Input text box    \n",
    "    ]),\n",
    "    html.Br(),\n",
    "    html.Br(),\n",
    "    dcc.Textarea(placeholder=\"Type the text here\",value='Placeholder',style={'width':'100%'}),## text area\n",
    "    html.Br(),\n",
    "    html.Br(),\n",
    "    html.Label('Checkbox'),## checkbox\n",
    "    html.Br(),\n",
    "    dcc.Checklist(\n",
    "        options=[{'label':'1','value':'One'},{'label':'2','value':'Two'}],value=['One','Two']\n",
    "    )\n",
    "    \n",
    "])"
   ]
  },
  {
   "cell_type": "code",
   "execution_count": 110,
   "metadata": {},
   "outputs": [
    {
     "name": "stdout",
     "output_type": "stream",
     "text": [
      "Dash is running on http://0.0.0.0:8050/\n",
      "\n",
      " Warning: This is a development server. Do not use app.run_server\n",
      " in production, use a production WSGI server like gunicorn instead.\n",
      "\n",
      " * Serving Flask app \"__main__\" (lazy loading)\n",
      " * Environment: production\n",
      "   WARNING: Do not use the development server in a production environment.\n",
      "   Use a production WSGI server instead.\n",
      " * Debug mode: off\n"
     ]
    },
    {
     "name": "stderr",
     "output_type": "stream",
     "text": [
      " * Running on http://0.0.0.0:8050/ (Press CTRL+C to quit)\n",
      "127.0.0.1 - - [21/Jul/2020 16:19:56] \"\u001b[37mGET / HTTP/1.1\u001b[0m\" 200 -\n",
      "127.0.0.1 - - [21/Jul/2020 16:19:57] \"\u001b[37mGET /_dash-layout HTTP/1.1\u001b[0m\" 200 -\n",
      "127.0.0.1 - - [21/Jul/2020 16:19:57] \"\u001b[37mGET /_dash-dependencies HTTP/1.1\u001b[0m\" 200 -\n"
     ]
    }
   ],
   "source": [
    "if __name__==\"__main__\":\n",
    "    app.run_server(port=8050,\n",
    "        host='0.0.0.0')"
   ]
  },
  {
   "cell_type": "markdown",
   "metadata": {},
   "source": [
    "### Radio buttons"
   ]
  },
  {
   "cell_type": "code",
   "execution_count": 114,
   "metadata": {},
   "outputs": [],
   "source": [
    "app.layout=html.Div([\n",
    "    html.Label('Choose a city'),\n",
    "    html.Br(),\n",
    "    dcc.Dropdown(id='first-dropdown',\n",
    "                 options=[{'label':'San Francisco','value':'SF'},{'label':'New York City','value':'NYC','disables':True}],\n",
    "                 value='NYC',\n",
    "                 multi=True,### multiple selection \n",
    "                 placeholder=\"Select a city\", ### enables default text in the dropdown\n",
    "                 disabled=True ### restricts the user to select the option from the dropdown\n",
    "                ),\n",
    "    html.Br(),\n",
    "    html.Br(),\n",
    "    html.Label(\"Slider\"),\n",
    "    dcc.Slider(min=1,max=10,value=5,marks={i:i for i in range(10)},step=0.5),## Slider with step count of 0.5\n",
    "    html.Br(),\n",
    "    html.Br(),\n",
    "    html.Label(\"Range Slider\"),\n",
    "    dcc.RangeSlider(min=1,max=10,step=0.5,value=[3,7],marks={i:i for i in range(10)}),## Range slider\n",
    "    html.Br(),\n",
    "    html.Br(),\n",
    "    html.Label(\"Input Text box\"),### text box \n",
    "    html.Br(),\n",
    "    html.Div([\n",
    "    dcc.Input(placeholder=\"Enter text here\",type='text',value=\"\")## Input text box    \n",
    "    ]),\n",
    "    html.Br(),\n",
    "    html.Br(),\n",
    "    dcc.Textarea(placeholder=\"Type the text here\",value='Placeholder',style={'width':'100%'}),## text area\n",
    "    html.Br(),\n",
    "    html.Br(),\n",
    "    html.Label('Checkbox'),## checkbox\n",
    "    html.Br(),\n",
    "    dcc.Checklist(\n",
    "        options=[{'label':'1','value':'One'},{'label':'2','value':'Two'}],value=['One','Two']\n",
    "    ),\n",
    "    html.Br(),\n",
    "    html.Br(),\n",
    "    dcc.RadioItems(\n",
    "        options=[{'label':'1','value':'One'},{'label':'2','value':'Two'}],value='One'\n",
    "    )\n",
    "    \n",
    "])"
   ]
  },
  {
   "cell_type": "code",
   "execution_count": 115,
   "metadata": {},
   "outputs": [
    {
     "name": "stdout",
     "output_type": "stream",
     "text": [
      "Dash is running on http://0.0.0.0:8050/\n",
      "\n",
      " Warning: This is a development server. Do not use app.run_server\n",
      " in production, use a production WSGI server like gunicorn instead.\n",
      "\n",
      " * Serving Flask app \"__main__\" (lazy loading)\n",
      " * Environment: production\n",
      "   WARNING: Do not use the development server in a production environment.\n",
      "   Use a production WSGI server instead.\n",
      " * Debug mode: off\n"
     ]
    },
    {
     "name": "stderr",
     "output_type": "stream",
     "text": [
      " * Running on http://0.0.0.0:8050/ (Press CTRL+C to quit)\n",
      "127.0.0.1 - - [21/Jul/2020 16:25:24] \"\u001b[37mGET / HTTP/1.1\u001b[0m\" 200 -\n",
      "127.0.0.1 - - [21/Jul/2020 16:25:24] \"\u001b[37mGET /_dash-dependencies HTTP/1.1\u001b[0m\" 200 -\n",
      "127.0.0.1 - - [21/Jul/2020 16:25:24] \"\u001b[37mGET /_dash-layout HTTP/1.1\u001b[0m\" 200 -\n"
     ]
    }
   ],
   "source": [
    "if __name__==\"__main__\":\n",
    "    app.run_server(port=8050,\n",
    "        host='0.0.0.0')"
   ]
  },
  {
   "cell_type": "markdown",
   "metadata": {},
   "source": [
    "### Buttons and DatePickerSingle"
   ]
  },
  {
   "cell_type": "code",
   "execution_count": 126,
   "metadata": {},
   "outputs": [],
   "source": [
    "from datetime import datetime as dt\n",
    "app.layout=html.Div([\n",
    "    html.Label('Choose a city'),\n",
    "    html.Br(),\n",
    "    dcc.Dropdown(id='first-dropdown',\n",
    "                 options=[{'label':'San Francisco','value':'SF'},{'label':'New York City','value':'NYC','disables':True}],\n",
    "                 value='NYC',\n",
    "                 multi=True,### multiple selection \n",
    "                 placeholder=\"Select a city\", ### enables default text in the dropdown\n",
    "                 disabled=True ### restricts the user to select the option from the dropdown\n",
    "                ),\n",
    "    html.Br(),\n",
    "    html.Br(),\n",
    "    html.Label(\"Slider\"),\n",
    "    dcc.Slider(min=1,max=10,value=5,marks={i:i for i in range(10)},step=0.5),## Slider with step count of 0.5\n",
    "    html.Br(),\n",
    "    html.Br(),\n",
    "    html.Label(\"Range Slider\"),\n",
    "    dcc.RangeSlider(min=1,max=10,step=0.5,value=[3,7],marks={i:i for i in range(10)}),## Range slider\n",
    "    html.Br(),\n",
    "    html.Br(),\n",
    "    html.Label(\"Input Text box\"),### text box \n",
    "    html.Br(),\n",
    "    html.Div([\n",
    "    dcc.Input(placeholder=\"Enter text here\",type='text',value=\"\")## Input text box    \n",
    "    ]),\n",
    "    html.Br(),\n",
    "    html.Br(),\n",
    "    dcc.Textarea(placeholder=\"Type the text here\",value='Placeholder',style={'width':'100%'}),## text area\n",
    "    html.Button(\"Submit\",id=\"submit\"),## button\n",
    "    html.Br(),\n",
    "    html.Br(),\n",
    "    html.Label('Checkbox'),## checkbox\n",
    "    html.Br(),\n",
    "    dcc.Checklist(\n",
    "        options=[{'label':'1','value':'One'},{'label':'2','value':'Two'}],value=['One','Two']\n",
    "    ),\n",
    "    html.Br(),\n",
    "    html.Br(),\n",
    "    dcc.RadioItems(\n",
    "        options=[{'label':'1','value':'One'},{'label':'2','value':'Two'}],value='One'\n",
    "    ),\n",
    "    html.Br(),\n",
    "    html.Br(),\n",
    "    dcc.DatePickerSingle(id='Date',date=dt(2020,7,21))\n",
    "    \n",
    "])"
   ]
  },
  {
   "cell_type": "code",
   "execution_count": 127,
   "metadata": {},
   "outputs": [
    {
     "name": "stdout",
     "output_type": "stream",
     "text": [
      "Dash is running on http://0.0.0.0:8050/\n",
      "\n",
      " Warning: This is a development server. Do not use app.run_server\n",
      " in production, use a production WSGI server like gunicorn instead.\n",
      "\n",
      " * Serving Flask app \"__main__\" (lazy loading)\n",
      " * Environment: production\n",
      "   WARNING: Do not use the development server in a production environment.\n",
      "   Use a production WSGI server instead.\n",
      " * Debug mode: off\n"
     ]
    },
    {
     "name": "stderr",
     "output_type": "stream",
     "text": [
      " * Running on http://0.0.0.0:8050/ (Press CTRL+C to quit)\n",
      "127.0.0.1 - - [21/Jul/2020 16:48:35] \"\u001b[37mGET / HTTP/1.1\u001b[0m\" 200 -\n",
      "127.0.0.1 - - [21/Jul/2020 16:48:36] \"\u001b[37mGET /_dash-dependencies HTTP/1.1\u001b[0m\" 200 -\n",
      "127.0.0.1 - - [21/Jul/2020 16:48:36] \"\u001b[37mGET /_dash-layout HTTP/1.1\u001b[0m\" 200 -\n",
      "127.0.0.1 - - [21/Jul/2020 16:48:36] \"\u001b[37mGET /_dash-component-suites/dash_core_components/async-datepicker.v1_10_1m1592438751.js HTTP/1.1\u001b[0m\" 200 -\n"
     ]
    }
   ],
   "source": [
    "if __name__==\"__main__\":\n",
    "    app.run_server(port=8050,\n",
    "        host='0.0.0.0')"
   ]
  },
  {
   "cell_type": "markdown",
   "metadata": {},
   "source": [
    "### DatePickerRange"
   ]
  },
  {
   "cell_type": "code",
   "execution_count": 134,
   "metadata": {},
   "outputs": [],
   "source": [
    "from datetime import datetime as dt\n",
    "app.layout=html.Div([\n",
    "    html.Label('Choose a city'),\n",
    "    html.Br(),\n",
    "    dcc.Dropdown(id='first-dropdown',\n",
    "                 options=[{'label':'San Francisco','value':'SF'},{'label':'New York City','value':'NYC','disables':True}],\n",
    "                 value='NYC',\n",
    "                 multi=True,### multiple selection \n",
    "                 placeholder=\"Select a city\", ### enables default text in the dropdown\n",
    "                 disabled=True ### restricts the user to select the option from the dropdown\n",
    "                ),\n",
    "    html.Br(),\n",
    "    html.Br(),\n",
    "    html.Label(\"Slider\"),\n",
    "    dcc.Slider(min=1,max=10,value=5,marks={i:i for i in range(10)},step=0.5),## Slider with step count of 0.5\n",
    "    html.Br(),\n",
    "    html.Br(),\n",
    "    html.Label(\"Range Slider\"),\n",
    "    dcc.RangeSlider(min=1,max=10,step=0.5,value=[3,7],marks={i:i for i in range(10)}),## Range slider\n",
    "    html.Br(),\n",
    "    html.Br(),\n",
    "    html.Label(\"Input Text box\"),### text box \n",
    "    html.Br(),\n",
    "    html.Div([\n",
    "    dcc.Input(placeholder=\"Enter text here\",type='text',value=\"\")## Input text box    \n",
    "    ]),\n",
    "    html.Br(),\n",
    "    html.Br(),\n",
    "    dcc.Textarea(placeholder=\"Type the text here\",value='Placeholder',style={'width':'100%'}),## text area\n",
    "    html.Button(\"Submit\",id=\"submit\"),## button\n",
    "    html.Br(),\n",
    "    html.Br(),\n",
    "    html.Label('Checkbox'),## checkbox\n",
    "    html.Br(),\n",
    "    dcc.Checklist(\n",
    "        options=[{'label':'1','value':'One'},{'label':'2','value':'Two'}],value=['One','Two']\n",
    "    ),\n",
    "    html.Br(),\n",
    "    html.Br(),\n",
    "    dcc.RadioItems(\n",
    "        options=[{'label':'1','value':'One'},{'label':'2','value':'Two'}],value='One'\n",
    "    ),\n",
    "    html.Br(),\n",
    "    html.Br(),\n",
    "    dcc.DatePickerSingle(id='Date',date=dt(2020,7,21)),\n",
    "    html.Br(),\n",
    "    html.Br(),\n",
    "    dcc.DatePickerRange(id='Date2',start_date=dt(2020,6,1),end_date_placeholder_text=\"Select the end date\")\n",
    "    \n",
    "])"
   ]
  },
  {
   "cell_type": "code",
   "execution_count": 135,
   "metadata": {},
   "outputs": [
    {
     "name": "stdout",
     "output_type": "stream",
     "text": [
      "Dash is running on http://0.0.0.0:8050/\n",
      "\n",
      " Warning: This is a development server. Do not use app.run_server\n",
      " in production, use a production WSGI server like gunicorn instead.\n",
      "\n",
      " * Serving Flask app \"__main__\" (lazy loading)\n",
      " * Environment: production\n",
      "   WARNING: Do not use the development server in a production environment.\n",
      "   Use a production WSGI server instead.\n",
      " * Debug mode: off\n"
     ]
    },
    {
     "name": "stderr",
     "output_type": "stream",
     "text": [
      " * Running on http://0.0.0.0:8050/ (Press CTRL+C to quit)\n",
      "127.0.0.1 - - [21/Jul/2020 16:53:48] \"\u001b[37mGET / HTTP/1.1\u001b[0m\" 200 -\n",
      "127.0.0.1 - - [21/Jul/2020 16:53:48] \"\u001b[37mGET /_dash-layout HTTP/1.1\u001b[0m\" 200 -\n",
      "127.0.0.1 - - [21/Jul/2020 16:53:49] \"\u001b[37mGET /_dash-dependencies HTTP/1.1\u001b[0m\" 200 -\n"
     ]
    }
   ],
   "source": [
    "if __name__==\"__main__\":\n",
    "    app.run_server(port=8050,\n",
    "        host='0.0.0.0')"
   ]
  },
  {
   "cell_type": "markdown",
   "metadata": {},
   "source": [
    "### Markdown"
   ]
  },
  {
   "cell_type": "code",
   "execution_count": 136,
   "metadata": {},
   "outputs": [],
   "source": [
    "from datetime import datetime as dt\n",
    "app.layout=html.Div([\n",
    "    html.Label('Choose a city'),\n",
    "    html.Br(),\n",
    "    dcc.Dropdown(id='first-dropdown',\n",
    "                 options=[{'label':'San Francisco','value':'SF'},{'label':'New York City','value':'NYC','disables':True}],\n",
    "                 value='NYC',\n",
    "                 multi=True,### multiple selection \n",
    "                 placeholder=\"Select a city\", ### enables default text in the dropdown\n",
    "                 disabled=True ### restricts the user to select the option from the dropdown\n",
    "                ),\n",
    "    html.Br(),\n",
    "    html.Br(),\n",
    "    html.Label(\"Slider\"),\n",
    "    dcc.Slider(min=1,max=10,value=5,marks={i:i for i in range(10)},step=0.5),## Slider with step count of 0.5\n",
    "    html.Br(),\n",
    "    html.Br(),\n",
    "    html.Label(\"Range Slider\"),\n",
    "    dcc.RangeSlider(min=1,max=10,step=0.5,value=[3,7],marks={i:i for i in range(10)}),## Range slider\n",
    "    html.Br(),\n",
    "    html.Br(),\n",
    "    html.Label(\"Input Text box\"),### text box \n",
    "    html.Br(),\n",
    "    html.Div([\n",
    "    dcc.Input(placeholder=\"Enter text here\",type='text',value=\"\")## Input text box    \n",
    "    ]),\n",
    "    html.Br(),\n",
    "    html.Br(),\n",
    "    dcc.Textarea(placeholder=\"Type the text here\",value='Placeholder',style={'width':'100%'}),## text area\n",
    "    html.Button(\"Submit\",id=\"submit\"),## button\n",
    "    html.Br(),\n",
    "    html.Br(),\n",
    "    html.Label('Checkbox'),## checkbox\n",
    "    html.Br(),\n",
    "    dcc.Checklist(\n",
    "        options=[{'label':'1','value':'One'},{'label':'2','value':'Two'}],value=['One','Two']\n",
    "    ),\n",
    "    html.Br(),\n",
    "    html.Br(),\n",
    "    dcc.RadioItems(\n",
    "        options=[{'label':'1','value':'One'},{'label':'2','value':'Two'}],value='One'\n",
    "    ),\n",
    "    html.Br(),\n",
    "    html.Br(),\n",
    "    dcc.DatePickerSingle(id='Date',date=dt(2020,7,21)),\n",
    "    html.Br(),\n",
    "    html.Br(),\n",
    "    dcc.DatePickerRange(id='Date2',start_date=dt(2020,6,1),end_date_placeholder_text=\"Select the end date\"),\n",
    "    html.Br(),\n",
    "    html.Br(),\n",
    "    dcc.Markdown(''' Here is the **bold text** ''')\n",
    "    \n",
    "])"
   ]
  },
  {
   "cell_type": "code",
   "execution_count": 137,
   "metadata": {},
   "outputs": [
    {
     "name": "stdout",
     "output_type": "stream",
     "text": [
      "Dash is running on http://0.0.0.0:8050/\n",
      "\n",
      " Warning: This is a development server. Do not use app.run_server\n",
      " in production, use a production WSGI server like gunicorn instead.\n",
      "\n",
      " * Serving Flask app \"__main__\" (lazy loading)\n",
      " * Environment: production\n",
      "   WARNING: Do not use the development server in a production environment.\n",
      "   Use a production WSGI server instead.\n",
      " * Debug mode: off\n"
     ]
    },
    {
     "name": "stderr",
     "output_type": "stream",
     "text": [
      " * Running on http://0.0.0.0:8050/ (Press CTRL+C to quit)\n",
      "127.0.0.1 - - [21/Jul/2020 17:00:42] \"\u001b[37mGET / HTTP/1.1\u001b[0m\" 200 -\n",
      "127.0.0.1 - - [21/Jul/2020 17:00:42] \"\u001b[37mGET /_dash-dependencies HTTP/1.1\u001b[0m\" 200 -\n",
      "127.0.0.1 - - [21/Jul/2020 17:00:42] \"\u001b[37mGET /_dash-layout HTTP/1.1\u001b[0m\" 200 -\n",
      "127.0.0.1 - - [21/Jul/2020 17:00:42] \"\u001b[37mGET /_dash-component-suites/dash_core_components/async-markdown.v1_10_1m1592438751.js HTTP/1.1\u001b[0m\" 200 -\n",
      "127.0.0.1 - - [21/Jul/2020 17:00:43] \"\u001b[37mGET /_dash-component-suites/dash_core_components/async-highlight.v1_10_1m1592438751.js HTTP/1.1\u001b[0m\" 200 -\n"
     ]
    }
   ],
   "source": [
    "if __name__==\"__main__\":\n",
    "    app.run_server(port=8050,\n",
    "        host='0.0.0.0')"
   ]
  },
  {
   "cell_type": "code",
   "execution_count": null,
   "metadata": {},
   "outputs": [],
   "source": []
  }
 ],
 "metadata": {
  "kernelspec": {
   "display_name": "Python 3",
   "language": "python",
   "name": "python3"
  },
  "language_info": {
   "codemirror_mode": {
    "name": "ipython",
    "version": 3
   },
   "file_extension": ".py",
   "mimetype": "text/x-python",
   "name": "python",
   "nbconvert_exporter": "python",
   "pygments_lexer": "ipython3",
   "version": "3.6.8"
  }
 },
 "nbformat": 4,
 "nbformat_minor": 2
}
